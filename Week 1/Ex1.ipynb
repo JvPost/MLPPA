{
 "cells": [
  {
   "cell_type": "code",
   "execution_count": 98,
   "metadata": {},
   "outputs": [],
   "source": [
    "import numpy as np\n",
    "import pandas as pd\n",
    "import seaborn as sns\n",
    "import matplotlib.pyplot as plt\n",
    "from sklearn.metrics import confusion_matrix, roc_curve, auc, roc_auc_score"
   ]
  },
  {
   "cell_type": "code",
   "execution_count": 2,
   "metadata": {},
   "outputs": [],
   "source": [
    "df = pd.read_csv(\"~/data/TrainingValidationData_320k_vs_80k_shuffle.csv\", header = None, sep='\\n')\n",
    "df = df[0].str.split(';|,', expand=True)"
   ]
  },
  {
   "cell_type": "code",
   "execution_count": 3,
   "metadata": {},
   "outputs": [],
   "source": [
    "df = df.fillna(0)"
   ]
  },
  {
   "cell_type": "code",
   "execution_count": 4,
   "metadata": {},
   "outputs": [
    {
     "name": "stdout",
     "output_type": "stream",
     "text": [
      "n_obj = 19\n"
     ]
    }
   ],
   "source": [
    "n_obj = (len(df.columns) - 5) // 5       \n",
    "print(\"n_obj =\", n_obj)\n",
    "df = df.drop(range(5 + 5 * n_obj, len(df.columns)), axis = 'columns') # Drop the empty column at the end"
   ]
  },
  {
   "cell_type": "code",
   "execution_count": 5,
   "metadata": {},
   "outputs": [
    {
     "data": {
      "text/plain": [
       "Int64Index([ 0,  1,  2,  3,  4,  5,  6,  7,  8,  9, 10, 11, 12, 13, 14, 15, 16,\n",
       "            17, 18, 19, 20, 21, 22, 23, 24, 25, 26, 27, 28, 29, 30, 31, 32, 33,\n",
       "            34, 35, 36, 37, 38, 39, 40, 41, 42, 43, 44, 45, 46, 47, 48, 49, 50,\n",
       "            51, 52, 53, 54, 55, 56, 57, 58, 59, 60, 61, 62, 63, 64, 65, 66, 67,\n",
       "            68, 69, 70, 71, 72, 73, 74, 75, 76, 77, 78, 79, 80, 81, 82, 83, 84,\n",
       "            85, 86, 87, 88, 89, 90, 91, 92, 93, 94, 95, 96, 97, 98, 99],\n",
       "           dtype='int64')"
      ]
     },
     "execution_count": 5,
     "metadata": {},
     "output_type": "execute_result"
    }
   ],
   "source": [
    "df.columns"
   ]
  },
  {
   "cell_type": "code",
   "execution_count": 6,
   "metadata": {},
   "outputs": [
    {
     "data": {
      "text/html": [
       "<div>\n",
       "<style scoped>\n",
       "    .dataframe tbody tr th:only-of-type {\n",
       "        vertical-align: middle;\n",
       "    }\n",
       "\n",
       "    .dataframe tbody tr th {\n",
       "        vertical-align: top;\n",
       "    }\n",
       "\n",
       "    .dataframe thead th {\n",
       "        text-align: right;\n",
       "    }\n",
       "</style>\n",
       "<table border=\"1\" class=\"dataframe\">\n",
       "  <thead>\n",
       "    <tr style=\"text-align: right;\">\n",
       "      <th></th>\n",
       "      <th>0</th>\n",
       "      <th>1</th>\n",
       "      <th>2</th>\n",
       "      <th>3</th>\n",
       "      <th>4</th>\n",
       "      <th>5</th>\n",
       "      <th>6</th>\n",
       "      <th>7</th>\n",
       "      <th>8</th>\n",
       "      <th>9</th>\n",
       "      <th>...</th>\n",
       "      <th>90</th>\n",
       "      <th>91</th>\n",
       "      <th>92</th>\n",
       "      <th>93</th>\n",
       "      <th>94</th>\n",
       "      <th>95</th>\n",
       "      <th>96</th>\n",
       "      <th>97</th>\n",
       "      <th>98</th>\n",
       "      <th>99</th>\n",
       "    </tr>\n",
       "  </thead>\n",
       "  <tbody>\n",
       "    <tr>\n",
       "      <th>0</th>\n",
       "      <td>21</td>\n",
       "      <td>ttbar</td>\n",
       "      <td>1</td>\n",
       "      <td>19592.4</td>\n",
       "      <td>-0.0410686</td>\n",
       "      <td>b</td>\n",
       "      <td>431384</td>\n",
       "      <td>247371</td>\n",
       "      <td>-1.15222</td>\n",
       "      <td>1.84686</td>\n",
       "      <td>...</td>\n",
       "      <td>0</td>\n",
       "      <td>0</td>\n",
       "      <td>0</td>\n",
       "      <td>0</td>\n",
       "      <td>0</td>\n",
       "      <td>0</td>\n",
       "      <td>0</td>\n",
       "      <td>0</td>\n",
       "      <td>0</td>\n",
       "      <td>0</td>\n",
       "    </tr>\n",
       "    <tr>\n",
       "      <th>1</th>\n",
       "      <td>21</td>\n",
       "      <td>ttbar</td>\n",
       "      <td>1</td>\n",
       "      <td>34361.5</td>\n",
       "      <td>-2.39277</td>\n",
       "      <td>b</td>\n",
       "      <td>104553</td>\n",
       "      <td>50546.8</td>\n",
       "      <td>1.34776</td>\n",
       "      <td>2.99585</td>\n",
       "      <td>...</td>\n",
       "      <td>0</td>\n",
       "      <td>0</td>\n",
       "      <td>0</td>\n",
       "      <td>0</td>\n",
       "      <td>0</td>\n",
       "      <td>0</td>\n",
       "      <td>0</td>\n",
       "      <td>0</td>\n",
       "      <td>0</td>\n",
       "      <td>0</td>\n",
       "    </tr>\n",
       "    <tr>\n",
       "      <th>2</th>\n",
       "      <td>21</td>\n",
       "      <td>ttbar</td>\n",
       "      <td>1</td>\n",
       "      <td>24356</td>\n",
       "      <td>-0.260029</td>\n",
       "      <td>j</td>\n",
       "      <td>255675</td>\n",
       "      <td>73086.1</td>\n",
       "      <td>1.92294</td>\n",
       "      <td>-1.81685</td>\n",
       "      <td>...</td>\n",
       "      <td>0</td>\n",
       "      <td>0</td>\n",
       "      <td>0</td>\n",
       "      <td>0</td>\n",
       "      <td>0</td>\n",
       "      <td>0</td>\n",
       "      <td>0</td>\n",
       "      <td>0</td>\n",
       "      <td>0</td>\n",
       "      <td>0</td>\n",
       "    </tr>\n",
       "    <tr>\n",
       "      <th>3</th>\n",
       "      <td>21</td>\n",
       "      <td>ttbar</td>\n",
       "      <td>1</td>\n",
       "      <td>36565.7</td>\n",
       "      <td>-0.666041</td>\n",
       "      <td>b</td>\n",
       "      <td>131526</td>\n",
       "      <td>78025.7</td>\n",
       "      <td>1.10913</td>\n",
       "      <td>-3.06327</td>\n",
       "      <td>...</td>\n",
       "      <td>0</td>\n",
       "      <td>0</td>\n",
       "      <td>0</td>\n",
       "      <td>0</td>\n",
       "      <td>0</td>\n",
       "      <td>0</td>\n",
       "      <td>0</td>\n",
       "      <td>0</td>\n",
       "      <td>0</td>\n",
       "      <td>0</td>\n",
       "    </tr>\n",
       "    <tr>\n",
       "      <th>4</th>\n",
       "      <td>21</td>\n",
       "      <td>ttbar</td>\n",
       "      <td>1</td>\n",
       "      <td>8966.28</td>\n",
       "      <td>-1.89928</td>\n",
       "      <td>j</td>\n",
       "      <td>185195</td>\n",
       "      <td>79061</td>\n",
       "      <td>-1.49199</td>\n",
       "      <td>0.682821</td>\n",
       "      <td>...</td>\n",
       "      <td>0</td>\n",
       "      <td>0</td>\n",
       "      <td>0</td>\n",
       "      <td>0</td>\n",
       "      <td>0</td>\n",
       "      <td>0</td>\n",
       "      <td>0</td>\n",
       "      <td>0</td>\n",
       "      <td>0</td>\n",
       "      <td>0</td>\n",
       "    </tr>\n",
       "    <tr>\n",
       "      <th>5</th>\n",
       "      <td>21</td>\n",
       "      <td>ttbar</td>\n",
       "      <td>1</td>\n",
       "      <td>23917.4</td>\n",
       "      <td>1.69316</td>\n",
       "      <td>b</td>\n",
       "      <td>74494.2</td>\n",
       "      <td>52650</td>\n",
       "      <td>0.869359</td>\n",
       "      <td>1.74075</td>\n",
       "      <td>...</td>\n",
       "      <td>0</td>\n",
       "      <td>0</td>\n",
       "      <td>0</td>\n",
       "      <td>0</td>\n",
       "      <td>0</td>\n",
       "      <td>0</td>\n",
       "      <td>0</td>\n",
       "      <td>0</td>\n",
       "      <td>0</td>\n",
       "      <td>0</td>\n",
       "    </tr>\n",
       "    <tr>\n",
       "      <th>6</th>\n",
       "      <td>21</td>\n",
       "      <td>ttbar</td>\n",
       "      <td>1</td>\n",
       "      <td>25571.3</td>\n",
       "      <td>-2.39031</td>\n",
       "      <td>j</td>\n",
       "      <td>158001</td>\n",
       "      <td>134569</td>\n",
       "      <td>0.565989</td>\n",
       "      <td>-0.573557</td>\n",
       "      <td>...</td>\n",
       "      <td>0</td>\n",
       "      <td>0</td>\n",
       "      <td>0</td>\n",
       "      <td>0</td>\n",
       "      <td>0</td>\n",
       "      <td>0</td>\n",
       "      <td>0</td>\n",
       "      <td>0</td>\n",
       "      <td>0</td>\n",
       "      <td>0</td>\n",
       "    </tr>\n",
       "    <tr>\n",
       "      <th>7</th>\n",
       "      <td>21</td>\n",
       "      <td>ttbar</td>\n",
       "      <td>1</td>\n",
       "      <td>19804.2</td>\n",
       "      <td>0.81136</td>\n",
       "      <td>j</td>\n",
       "      <td>145088</td>\n",
       "      <td>111437</td>\n",
       "      <td>0.736566</td>\n",
       "      <td>2.51313</td>\n",
       "      <td>...</td>\n",
       "      <td>0</td>\n",
       "      <td>0</td>\n",
       "      <td>0</td>\n",
       "      <td>0</td>\n",
       "      <td>0</td>\n",
       "      <td>0</td>\n",
       "      <td>0</td>\n",
       "      <td>0</td>\n",
       "      <td>0</td>\n",
       "      <td>0</td>\n",
       "    </tr>\n",
       "    <tr>\n",
       "      <th>8</th>\n",
       "      <td>21</td>\n",
       "      <td>ttbar</td>\n",
       "      <td>1</td>\n",
       "      <td>62962.5</td>\n",
       "      <td>0.886331</td>\n",
       "      <td>b</td>\n",
       "      <td>166871</td>\n",
       "      <td>146545</td>\n",
       "      <td>-0.487993</td>\n",
       "      <td>-1.11008</td>\n",
       "      <td>...</td>\n",
       "      <td>0</td>\n",
       "      <td>0</td>\n",
       "      <td>0</td>\n",
       "      <td>0</td>\n",
       "      <td>0</td>\n",
       "      <td>0</td>\n",
       "      <td>0</td>\n",
       "      <td>0</td>\n",
       "      <td>0</td>\n",
       "      <td>0</td>\n",
       "    </tr>\n",
       "    <tr>\n",
       "      <th>9</th>\n",
       "      <td>21</td>\n",
       "      <td>ttbar</td>\n",
       "      <td>1</td>\n",
       "      <td>27831.8</td>\n",
       "      <td>-2.6922</td>\n",
       "      <td>j</td>\n",
       "      <td>269994</td>\n",
       "      <td>138348</td>\n",
       "      <td>1.27167</td>\n",
       "      <td>-1.45395</td>\n",
       "      <td>...</td>\n",
       "      <td>0</td>\n",
       "      <td>0</td>\n",
       "      <td>0</td>\n",
       "      <td>0</td>\n",
       "      <td>0</td>\n",
       "      <td>0</td>\n",
       "      <td>0</td>\n",
       "      <td>0</td>\n",
       "      <td>0</td>\n",
       "      <td>0</td>\n",
       "    </tr>\n",
       "  </tbody>\n",
       "</table>\n",
       "<p>10 rows × 100 columns</p>\n",
       "</div>"
      ],
      "text/plain": [
       "   0      1  2        3           4  5        6        7          8   \\\n",
       "0  21  ttbar  1  19592.4  -0.0410686  b   431384   247371   -1.15222   \n",
       "1  21  ttbar  1  34361.5    -2.39277  b   104553  50546.8    1.34776   \n",
       "2  21  ttbar  1    24356   -0.260029  j   255675  73086.1    1.92294   \n",
       "3  21  ttbar  1  36565.7   -0.666041  b   131526  78025.7    1.10913   \n",
       "4  21  ttbar  1  8966.28    -1.89928  j   185195    79061   -1.49199   \n",
       "5  21  ttbar  1  23917.4     1.69316  b  74494.2    52650   0.869359   \n",
       "6  21  ttbar  1  25571.3    -2.39031  j   158001   134569   0.565989   \n",
       "7  21  ttbar  1  19804.2     0.81136  j   145088   111437   0.736566   \n",
       "8  21  ttbar  1  62962.5    0.886331  b   166871   146545  -0.487993   \n",
       "9  21  ttbar  1  27831.8     -2.6922  j   269994   138348    1.27167   \n",
       "\n",
       "          9   ... 90 91 92 93 94 95 96 97 98 99  \n",
       "0    1.84686  ...  0  0  0  0  0  0  0  0  0  0  \n",
       "1    2.99585  ...  0  0  0  0  0  0  0  0  0  0  \n",
       "2   -1.81685  ...  0  0  0  0  0  0  0  0  0  0  \n",
       "3   -3.06327  ...  0  0  0  0  0  0  0  0  0  0  \n",
       "4   0.682821  ...  0  0  0  0  0  0  0  0  0  0  \n",
       "5    1.74075  ...  0  0  0  0  0  0  0  0  0  0  \n",
       "6  -0.573557  ...  0  0  0  0  0  0  0  0  0  0  \n",
       "7    2.51313  ...  0  0  0  0  0  0  0  0  0  0  \n",
       "8   -1.11008  ...  0  0  0  0  0  0  0  0  0  0  \n",
       "9   -1.45395  ...  0  0  0  0  0  0  0  0  0  0  \n",
       "\n",
       "[10 rows x 100 columns]"
      ]
     },
     "execution_count": 6,
     "metadata": {},
     "output_type": "execute_result"
    }
   ],
   "source": [
    "df.head(10)"
   ]
  },
  {
   "cell_type": "code",
   "execution_count": 7,
   "metadata": {},
   "outputs": [
    {
     "data": {
      "text/plain": [
       "Index(['EventID', 'ProcessID', 'evtweight', 'MET', 'METphi', 'obj0', 'obj0_E',\n",
       "       'obj0_pt', 'obj0_eta', 'obj0_phi', 'obj1', 'obj1_E', 'obj1_pt',\n",
       "       'obj1_eta', 'obj1_phi', 'obj2', 'obj2_E', 'obj2_pt', 'obj2_eta',\n",
       "       'obj2_phi', 'obj3', 'obj3_E', 'obj3_pt', 'obj3_eta', 'obj3_phi', 'obj4',\n",
       "       'obj4_E', 'obj4_pt', 'obj4_eta', 'obj4_phi', 'obj5', 'obj5_E',\n",
       "       'obj5_pt', 'obj5_eta', 'obj5_phi', 'obj6', 'obj6_E', 'obj6_pt',\n",
       "       'obj6_eta', 'obj6_phi', 'obj7', 'obj7_E', 'obj7_pt', 'obj7_eta',\n",
       "       'obj7_phi', 'obj8', 'obj8_E', 'obj8_pt', 'obj8_eta', 'obj8_phi', 'obj9',\n",
       "       'obj9_E', 'obj9_pt', 'obj9_eta', 'obj9_phi', 'obj10', 'obj10_E',\n",
       "       'obj10_pt', 'obj10_eta', 'obj10_phi', 'obj11', 'obj11_E', 'obj11_pt',\n",
       "       'obj11_eta', 'obj11_phi', 'obj12', 'obj12_E', 'obj12_pt', 'obj12_eta',\n",
       "       'obj12_phi', 'obj13', 'obj13_E', 'obj13_pt', 'obj13_eta', 'obj13_phi',\n",
       "       'obj14', 'obj14_E', 'obj14_pt', 'obj14_eta', 'obj14_phi', 'obj15',\n",
       "       'obj15_E', 'obj15_pt', 'obj15_eta', 'obj15_phi', 'obj16', 'obj16_E',\n",
       "       'obj16_pt', 'obj16_eta', 'obj16_phi', 'obj17', 'obj17_E', 'obj17_pt',\n",
       "       'obj17_eta', 'obj17_phi', 'obj18', 'obj18_E', 'obj18_pt', 'obj18_eta',\n",
       "       'obj18_phi'],\n",
       "      dtype='object')"
      ]
     },
     "execution_count": 7,
     "metadata": {},
     "output_type": "execute_result"
    }
   ],
   "source": [
    "# Make column headers so we can call them something meaningful\n",
    "heads = ['EventID', 'ProcessID', 'evtweight', 'MET', 'METphi']\n",
    "for i in range (n_obj):\n",
    "  heads.append('obj%d' % i)\n",
    "  heads.append('obj%d_E' % i)\n",
    "  heads.append('obj%d_pt' % i)\n",
    "  heads.append('obj%d_eta' % i)\n",
    "  heads.append('obj%d_phi' % i)\n",
    "df.columns = df.columns[:0].tolist() + heads # Set the DataFrame column names to headers\n",
    "df.columns"
   ]
  },
  {
   "cell_type": "code",
   "execution_count": 8,
   "metadata": {},
   "outputs": [
    {
     "data": {
      "text/plain": [
       "array(['ttbar', '4top'], dtype=object)"
      ]
     },
     "execution_count": 8,
     "metadata": {},
     "output_type": "execute_result"
    }
   ],
   "source": [
    "df[\"ProcessID\"].unique()"
   ]
  },
  {
   "cell_type": "code",
   "execution_count": 9,
   "metadata": {},
   "outputs": [],
   "source": [
    "\n",
    "process_mapping = { 'ttbar': 0, '4top': 1} \n",
    "df['ProcessID'] = df['ProcessID'].map(process_mapping) # Map 'ttbar' to 0, and '4top' to 1"
   ]
  },
  {
   "cell_type": "code",
   "execution_count": 10,
   "metadata": {},
   "outputs": [
    {
     "data": {
      "text/plain": [
       "array([0, 1])"
      ]
     },
     "execution_count": 10,
     "metadata": {},
     "output_type": "execute_result"
    }
   ],
   "source": [
    "df['ProcessID'].unique()"
   ]
  },
  {
   "cell_type": "code",
   "execution_count": 11,
   "metadata": {},
   "outputs": [
    {
     "data": {
      "text/plain": [
       "Index(['EventID', 'ProcessID', 'evtweight', 'MET', 'METphi', 'obj0', 'obj0_E',\n",
       "       'obj0_pt', 'obj0_eta', 'obj0_phi', 'obj1', 'obj1_E', 'obj1_pt',\n",
       "       'obj1_eta', 'obj1_phi', 'obj2', 'obj2_E', 'obj2_pt', 'obj2_eta',\n",
       "       'obj2_phi', 'obj3', 'obj3_E', 'obj3_pt', 'obj3_eta', 'obj3_phi', 'obj4',\n",
       "       'obj4_E', 'obj4_pt', 'obj4_eta', 'obj4_phi', 'obj5', 'obj5_E',\n",
       "       'obj5_pt', 'obj5_eta', 'obj5_phi', 'obj6', 'obj6_E', 'obj6_pt',\n",
       "       'obj6_eta', 'obj6_phi', 'obj7', 'obj7_E', 'obj7_pt', 'obj7_eta',\n",
       "       'obj7_phi', 'obj8', 'obj8_E', 'obj8_pt', 'obj8_eta', 'obj8_phi', 'obj9',\n",
       "       'obj9_E', 'obj9_pt', 'obj9_eta', 'obj9_phi', 'obj10', 'obj10_E',\n",
       "       'obj10_pt', 'obj10_eta', 'obj10_phi', 'obj11', 'obj11_E', 'obj11_pt',\n",
       "       'obj11_eta', 'obj11_phi', 'obj12', 'obj12_E', 'obj12_pt', 'obj12_eta',\n",
       "       'obj12_phi', 'obj13', 'obj13_E', 'obj13_pt', 'obj13_eta', 'obj13_phi',\n",
       "       'obj14', 'obj14_E', 'obj14_pt', 'obj14_eta', 'obj14_phi', 'obj15',\n",
       "       'obj15_E', 'obj15_pt', 'obj15_eta', 'obj15_phi', 'obj16', 'obj16_E',\n",
       "       'obj16_pt', 'obj16_eta', 'obj16_phi', 'obj17', 'obj17_E', 'obj17_pt',\n",
       "       'obj17_eta', 'obj17_phi', 'obj18', 'obj18_E', 'obj18_pt', 'obj18_eta',\n",
       "       'obj18_phi'],\n",
       "      dtype='object')"
      ]
     },
     "execution_count": 11,
     "metadata": {},
     "output_type": "execute_result"
    }
   ],
   "source": [
    "df.columns"
   ]
  },
  {
   "cell_type": "code",
   "execution_count": 12,
   "metadata": {},
   "outputs": [
    {
     "data": {
      "text/html": [
       "<div>\n",
       "<style scoped>\n",
       "    .dataframe tbody tr th:only-of-type {\n",
       "        vertical-align: middle;\n",
       "    }\n",
       "\n",
       "    .dataframe tbody tr th {\n",
       "        vertical-align: top;\n",
       "    }\n",
       "\n",
       "    .dataframe thead th {\n",
       "        text-align: right;\n",
       "    }\n",
       "</style>\n",
       "<table border=\"1\" class=\"dataframe\">\n",
       "  <thead>\n",
       "    <tr style=\"text-align: right;\">\n",
       "      <th></th>\n",
       "      <th>EventID</th>\n",
       "      <th>ProcessID</th>\n",
       "      <th>evtweight</th>\n",
       "      <th>MET</th>\n",
       "      <th>METphi</th>\n",
       "      <th>obj0</th>\n",
       "      <th>obj0_E</th>\n",
       "      <th>obj0_pt</th>\n",
       "      <th>obj0_eta</th>\n",
       "      <th>obj0_phi</th>\n",
       "      <th>...</th>\n",
       "      <th>obj17</th>\n",
       "      <th>obj17_E</th>\n",
       "      <th>obj17_pt</th>\n",
       "      <th>obj17_eta</th>\n",
       "      <th>obj17_phi</th>\n",
       "      <th>obj18</th>\n",
       "      <th>obj18_E</th>\n",
       "      <th>obj18_pt</th>\n",
       "      <th>obj18_eta</th>\n",
       "      <th>obj18_phi</th>\n",
       "    </tr>\n",
       "  </thead>\n",
       "  <tbody>\n",
       "    <tr>\n",
       "      <th>0</th>\n",
       "      <td>21</td>\n",
       "      <td>0</td>\n",
       "      <td>1</td>\n",
       "      <td>19592.4</td>\n",
       "      <td>-0.0410686</td>\n",
       "      <td>b</td>\n",
       "      <td>431384</td>\n",
       "      <td>247371</td>\n",
       "      <td>-1.15222</td>\n",
       "      <td>1.84686</td>\n",
       "      <td>...</td>\n",
       "      <td>0</td>\n",
       "      <td>0</td>\n",
       "      <td>0</td>\n",
       "      <td>0</td>\n",
       "      <td>0</td>\n",
       "      <td>0</td>\n",
       "      <td>0</td>\n",
       "      <td>0</td>\n",
       "      <td>0</td>\n",
       "      <td>0</td>\n",
       "    </tr>\n",
       "    <tr>\n",
       "      <th>1</th>\n",
       "      <td>21</td>\n",
       "      <td>0</td>\n",
       "      <td>1</td>\n",
       "      <td>34361.5</td>\n",
       "      <td>-2.39277</td>\n",
       "      <td>b</td>\n",
       "      <td>104553</td>\n",
       "      <td>50546.8</td>\n",
       "      <td>1.34776</td>\n",
       "      <td>2.99585</td>\n",
       "      <td>...</td>\n",
       "      <td>0</td>\n",
       "      <td>0</td>\n",
       "      <td>0</td>\n",
       "      <td>0</td>\n",
       "      <td>0</td>\n",
       "      <td>0</td>\n",
       "      <td>0</td>\n",
       "      <td>0</td>\n",
       "      <td>0</td>\n",
       "      <td>0</td>\n",
       "    </tr>\n",
       "    <tr>\n",
       "      <th>2</th>\n",
       "      <td>21</td>\n",
       "      <td>0</td>\n",
       "      <td>1</td>\n",
       "      <td>24356</td>\n",
       "      <td>-0.260029</td>\n",
       "      <td>j</td>\n",
       "      <td>255675</td>\n",
       "      <td>73086.1</td>\n",
       "      <td>1.92294</td>\n",
       "      <td>-1.81685</td>\n",
       "      <td>...</td>\n",
       "      <td>0</td>\n",
       "      <td>0</td>\n",
       "      <td>0</td>\n",
       "      <td>0</td>\n",
       "      <td>0</td>\n",
       "      <td>0</td>\n",
       "      <td>0</td>\n",
       "      <td>0</td>\n",
       "      <td>0</td>\n",
       "      <td>0</td>\n",
       "    </tr>\n",
       "    <tr>\n",
       "      <th>3</th>\n",
       "      <td>21</td>\n",
       "      <td>0</td>\n",
       "      <td>1</td>\n",
       "      <td>36565.7</td>\n",
       "      <td>-0.666041</td>\n",
       "      <td>b</td>\n",
       "      <td>131526</td>\n",
       "      <td>78025.7</td>\n",
       "      <td>1.10913</td>\n",
       "      <td>-3.06327</td>\n",
       "      <td>...</td>\n",
       "      <td>0</td>\n",
       "      <td>0</td>\n",
       "      <td>0</td>\n",
       "      <td>0</td>\n",
       "      <td>0</td>\n",
       "      <td>0</td>\n",
       "      <td>0</td>\n",
       "      <td>0</td>\n",
       "      <td>0</td>\n",
       "      <td>0</td>\n",
       "    </tr>\n",
       "    <tr>\n",
       "      <th>4</th>\n",
       "      <td>21</td>\n",
       "      <td>0</td>\n",
       "      <td>1</td>\n",
       "      <td>8966.28</td>\n",
       "      <td>-1.89928</td>\n",
       "      <td>j</td>\n",
       "      <td>185195</td>\n",
       "      <td>79061</td>\n",
       "      <td>-1.49199</td>\n",
       "      <td>0.682821</td>\n",
       "      <td>...</td>\n",
       "      <td>0</td>\n",
       "      <td>0</td>\n",
       "      <td>0</td>\n",
       "      <td>0</td>\n",
       "      <td>0</td>\n",
       "      <td>0</td>\n",
       "      <td>0</td>\n",
       "      <td>0</td>\n",
       "      <td>0</td>\n",
       "      <td>0</td>\n",
       "    </tr>\n",
       "    <tr>\n",
       "      <th>5</th>\n",
       "      <td>21</td>\n",
       "      <td>0</td>\n",
       "      <td>1</td>\n",
       "      <td>23917.4</td>\n",
       "      <td>1.69316</td>\n",
       "      <td>b</td>\n",
       "      <td>74494.2</td>\n",
       "      <td>52650</td>\n",
       "      <td>0.869359</td>\n",
       "      <td>1.74075</td>\n",
       "      <td>...</td>\n",
       "      <td>0</td>\n",
       "      <td>0</td>\n",
       "      <td>0</td>\n",
       "      <td>0</td>\n",
       "      <td>0</td>\n",
       "      <td>0</td>\n",
       "      <td>0</td>\n",
       "      <td>0</td>\n",
       "      <td>0</td>\n",
       "      <td>0</td>\n",
       "    </tr>\n",
       "    <tr>\n",
       "      <th>6</th>\n",
       "      <td>21</td>\n",
       "      <td>0</td>\n",
       "      <td>1</td>\n",
       "      <td>25571.3</td>\n",
       "      <td>-2.39031</td>\n",
       "      <td>j</td>\n",
       "      <td>158001</td>\n",
       "      <td>134569</td>\n",
       "      <td>0.565989</td>\n",
       "      <td>-0.573557</td>\n",
       "      <td>...</td>\n",
       "      <td>0</td>\n",
       "      <td>0</td>\n",
       "      <td>0</td>\n",
       "      <td>0</td>\n",
       "      <td>0</td>\n",
       "      <td>0</td>\n",
       "      <td>0</td>\n",
       "      <td>0</td>\n",
       "      <td>0</td>\n",
       "      <td>0</td>\n",
       "    </tr>\n",
       "    <tr>\n",
       "      <th>7</th>\n",
       "      <td>21</td>\n",
       "      <td>0</td>\n",
       "      <td>1</td>\n",
       "      <td>19804.2</td>\n",
       "      <td>0.81136</td>\n",
       "      <td>j</td>\n",
       "      <td>145088</td>\n",
       "      <td>111437</td>\n",
       "      <td>0.736566</td>\n",
       "      <td>2.51313</td>\n",
       "      <td>...</td>\n",
       "      <td>0</td>\n",
       "      <td>0</td>\n",
       "      <td>0</td>\n",
       "      <td>0</td>\n",
       "      <td>0</td>\n",
       "      <td>0</td>\n",
       "      <td>0</td>\n",
       "      <td>0</td>\n",
       "      <td>0</td>\n",
       "      <td>0</td>\n",
       "    </tr>\n",
       "    <tr>\n",
       "      <th>8</th>\n",
       "      <td>21</td>\n",
       "      <td>0</td>\n",
       "      <td>1</td>\n",
       "      <td>62962.5</td>\n",
       "      <td>0.886331</td>\n",
       "      <td>b</td>\n",
       "      <td>166871</td>\n",
       "      <td>146545</td>\n",
       "      <td>-0.487993</td>\n",
       "      <td>-1.11008</td>\n",
       "      <td>...</td>\n",
       "      <td>0</td>\n",
       "      <td>0</td>\n",
       "      <td>0</td>\n",
       "      <td>0</td>\n",
       "      <td>0</td>\n",
       "      <td>0</td>\n",
       "      <td>0</td>\n",
       "      <td>0</td>\n",
       "      <td>0</td>\n",
       "      <td>0</td>\n",
       "    </tr>\n",
       "    <tr>\n",
       "      <th>9</th>\n",
       "      <td>21</td>\n",
       "      <td>0</td>\n",
       "      <td>1</td>\n",
       "      <td>27831.8</td>\n",
       "      <td>-2.6922</td>\n",
       "      <td>j</td>\n",
       "      <td>269994</td>\n",
       "      <td>138348</td>\n",
       "      <td>1.27167</td>\n",
       "      <td>-1.45395</td>\n",
       "      <td>...</td>\n",
       "      <td>0</td>\n",
       "      <td>0</td>\n",
       "      <td>0</td>\n",
       "      <td>0</td>\n",
       "      <td>0</td>\n",
       "      <td>0</td>\n",
       "      <td>0</td>\n",
       "      <td>0</td>\n",
       "      <td>0</td>\n",
       "      <td>0</td>\n",
       "    </tr>\n",
       "  </tbody>\n",
       "</table>\n",
       "<p>10 rows × 100 columns</p>\n",
       "</div>"
      ],
      "text/plain": [
       "  EventID  ProcessID evtweight      MET      METphi obj0   obj0_E  obj0_pt  \\\n",
       "0      21          0         1  19592.4  -0.0410686    b   431384   247371   \n",
       "1      21          0         1  34361.5    -2.39277    b   104553  50546.8   \n",
       "2      21          0         1    24356   -0.260029    j   255675  73086.1   \n",
       "3      21          0         1  36565.7   -0.666041    b   131526  78025.7   \n",
       "4      21          0         1  8966.28    -1.89928    j   185195    79061   \n",
       "5      21          0         1  23917.4     1.69316    b  74494.2    52650   \n",
       "6      21          0         1  25571.3    -2.39031    j   158001   134569   \n",
       "7      21          0         1  19804.2     0.81136    j   145088   111437   \n",
       "8      21          0         1  62962.5    0.886331    b   166871   146545   \n",
       "9      21          0         1  27831.8     -2.6922    j   269994   138348   \n",
       "\n",
       "    obj0_eta   obj0_phi  ... obj17 obj17_E obj17_pt obj17_eta obj17_phi obj18  \\\n",
       "0   -1.15222    1.84686  ...     0       0        0         0         0     0   \n",
       "1    1.34776    2.99585  ...     0       0        0         0         0     0   \n",
       "2    1.92294   -1.81685  ...     0       0        0         0         0     0   \n",
       "3    1.10913   -3.06327  ...     0       0        0         0         0     0   \n",
       "4   -1.49199   0.682821  ...     0       0        0         0         0     0   \n",
       "5   0.869359    1.74075  ...     0       0        0         0         0     0   \n",
       "6   0.565989  -0.573557  ...     0       0        0         0         0     0   \n",
       "7   0.736566    2.51313  ...     0       0        0         0         0     0   \n",
       "8  -0.487993   -1.11008  ...     0       0        0         0         0     0   \n",
       "9    1.27167   -1.45395  ...     0       0        0         0         0     0   \n",
       "\n",
       "  obj18_E obj18_pt obj18_eta obj18_phi  \n",
       "0       0        0         0         0  \n",
       "1       0        0         0         0  \n",
       "2       0        0         0         0  \n",
       "3       0        0         0         0  \n",
       "4       0        0         0         0  \n",
       "5       0        0         0         0  \n",
       "6       0        0         0         0  \n",
       "7       0        0         0         0  \n",
       "8       0        0         0         0  \n",
       "9       0        0         0         0  \n",
       "\n",
       "[10 rows x 100 columns]"
      ]
     },
     "execution_count": 12,
     "metadata": {},
     "output_type": "execute_result"
    }
   ],
   "source": [
    "df.head(10)"
   ]
  },
  {
   "cell_type": "code",
   "execution_count": 13,
   "metadata": {},
   "outputs": [
    {
     "data": {
      "text/plain": [
       "array(['1', '1.93155e-07', '1.93e-07'], dtype=object)"
      ]
     },
     "execution_count": 13,
     "metadata": {},
     "output_type": "execute_result"
    }
   ],
   "source": [
    "df[\"evtweight\"].unique()"
   ]
  },
  {
   "cell_type": "markdown",
   "metadata": {},
   "source": [
    "# Now that we have the data-set in the form we want it in, here's the task for you. \n",
    "\n",
    "1. Plot a histogram showing the distribution of any kinematic variable, of 'obj1', for example the 'pt'.\n",
    "2. Separate this into \"signal\" and \"background\" contributions by using the processID and the DataFrame filtering \n",
    "3. Plot the signal (4-top==1) and background (ttbar==0) distributions on the same histogram figure.\n",
    "4. Make a cut, and evaluate the confusion matrix for this cut.\n",
    "5. Make multiple cuts, and plot the ROC of the distribution.\n",
    "\n",
    "\n"
   ]
  },
  {
   "cell_type": "markdown",
   "metadata": {},
   "source": [
    "### Plot a histogram showing the distribution of any kinematic variable, of 'obj1', for example the 'pt'."
   ]
  },
  {
   "cell_type": "code",
   "execution_count": 14,
   "metadata": {},
   "outputs": [],
   "source": [
    "obj1_pt = np.array(df[\"obj1_pt\"].astype(float))\n"
   ]
  },
  {
   "cell_type": "code",
   "execution_count": 15,
   "metadata": {},
   "outputs": [
    {
     "data": {
      "image/png": "[encoded data removed]",
      "text/plain": [
       "<Figure size 432x288 with 1 Axes>"
      ]
     },
     "metadata": {
      "needs_background": "light"
     },
     "output_type": "display_data"
    }
   ],
   "source": [
    "\n",
    "n, bins, patches = plt.hist(obj1_pt , 100)\n",
    "plt.show()"
   ]
  },
  {
   "cell_type": "markdown",
   "metadata": {},
   "source": [
    "### Separate this into \"signal\" and \"background\" contributions by using the processID and the DataFrame filtering "
   ]
  },
  {
   "cell_type": "code",
   "execution_count": 44,
   "metadata": {},
   "outputs": [
    {
     "data": {
      "image/png": "[encoded data removed]",
      "text/plain": [
       "<Figure size 576x288 with 2 Axes>"
      ]
     },
     "metadata": {
      "needs_background": "light"
     },
     "output_type": "display_data"
    }
   ],
   "source": [
    "\n",
    "def plot_kinematic_variable(df, ObjectID, variable):\n",
    "    background = df[df['ProcessID'] == 0]\n",
    "    signal = df[df['ProcessID'] == 1]\n",
    "\n",
    "    fig, ax = plt.subplots(1,2)\n",
    "    fig.suptitle(\"Signal and background for obj{i}_{var}\".format(i = ObjectID,\n",
    "                                                              var = variable))\n",
    "    fig.set_figwidth(8)\n",
    "\n",
    "    ax[0].set_title(\"Signal\")\n",
    "    _,_,_ = ax[0].hist(signal[\"obj{i}_{var}\".format(i = ObjectID,\n",
    "                                                    var = variable)].astype(float),\n",
    "                       bins=100)\n",
    "\n",
    "    ax[1].set_title(\"Background\")\n",
    "    _,_,_ = ax[1].hist(background[\"obj{i}_{var}\".format(i = ObjectID,\n",
    "                                                        var = variable)].astype(float),\n",
    "                       bins=100)\n",
    "    \n",
    "    return background, signal\n",
    "    \n",
    "background, signal = plot_kinematic_variable(df, 0, \"pt\")"
   ]
  },
  {
   "cell_type": "code",
   "execution_count": 57,
   "metadata": {},
   "outputs": [
    {
     "name": "stdout",
     "output_type": "stream",
     "text": [
      "128641.45924156251\n"
     ]
    }
   ],
   "source": [
    "background_mean = background[\"obj0_pt\"].astype(float).to_numpy().mean()\n",
    "print(background_mean)"
   ]
  },
  {
   "cell_type": "code",
   "execution_count": 56,
   "metadata": {},
   "outputs": [
    {
     "name": "stdout",
     "output_type": "stream",
     "text": [
      "279337.18745875\n"
     ]
    }
   ],
   "source": [
    "signal_mean = signal[\"obj0_pt\"].astype(float).to_numpy().mean()\n",
    "print(signal_mean)"
   ]
  },
  {
   "cell_type": "code",
   "execution_count": 71,
   "metadata": {},
   "outputs": [
    {
     "data": {
      "text/plain": [
       "21"
      ]
     },
     "execution_count": 71,
     "metadata": {},
     "output_type": "execute_result"
    }
   ],
   "source": [
    "cutoff = (background_mean + signal_mean) / 2\n"
   ]
  },
  {
   "cell_type": "code",
   "execution_count": 100,
   "metadata": {},
   "outputs": [
    {
     "data": {
      "text/plain": [
       "0.8576883721484374"
      ]
     },
     "execution_count": 100,
     "metadata": {},
     "output_type": "execute_result"
    },
    {
     "data": {
      "image/png": "[encoded data removed]",
      "text/plain": [
       "<Figure size 432x288 with 1 Axes>"
      ]
     },
     "metadata": {
      "needs_background": "light"
     },
     "output_type": "display_data"
    }
   ],
   "source": [
    "# signal = 1, background = 0\n",
    "# signal > cutof, background < cutof\n",
    "def calc_roc_curve(df, cutoff):\n",
    "    x = df['obj0_pt'].astype(float).to_numpy()\n",
    "    y_true = df['ProcessID'].to_numpy()\n",
    "    \n",
    "    cutoffs = [(i/10)*cutoff for i in range(0,21) ]\n",
    "    \n",
    "    results = []\n",
    "    \n",
    "    for c in cutoffs:\n",
    "        y_pred = np.zeros_like(y_true)\n",
    "        y_pred[x > c] = 1\n",
    "        tn, fp, fn, tp = confusion_matrix(y_true, y_pred).ravel()\n",
    "        sens = tp / (tp + fn) # how many of the positives found\n",
    "        spec = tn / (tn + fp) # how many of the negatives found\n",
    "        results.append((sens, 1-spec))\n",
    "    return results\n",
    "        \n",
    "roc_values = calc_roc_curve(df, cutoff)\n",
    "roc_values = np.array(roc_values)\n",
    "y = roc_values[:,0]\n",
    "x = roc_values[:,1]\n",
    "plt.plot(x, y)\n",
    "auc(x, y)"
   ]
  },
  {
   "cell_type": "code",
   "execution_count": 102,
   "metadata": {},
   "outputs": [
    {
     "data": {
      "text/plain": [
       "array([2, 1, 0])"
      ]
     },
     "execution_count": 102,
     "metadata": {},
     "output_type": "execute_result"
    }
   ],
   "source": [
    "x = df['obj0_pt'].astype(float).to_numpy()\n",
    "y_true = df['ProcessID'].to_numpy()\n",
    "y_pred = np.zeros_like(y_true)\n",
    "y_pred[x > 0.5 * cutoff] = 1\n",
    "\n",
    "y_true = df['ProcessID'].to_numpy()\n",
    "\n",
    "fpr, tpr, thresholds = roc_curve(y_true, y_pred, drop_intermediate=False)\n",
    "\n",
    "thresholds"
   ]
  }
 ],
 "metadata": {
  "interpreter": {
   "hash": "d567375c915b3796bdf6823210c8acf24e16a4be629a05d403318bdb6b1fb278"
  },
  "kernelspec": {
   "display_name": "Python 3.8.8 ('base')",
   "language": "python",
   "name": "python3"
  },
  "language_info": {
   "codemirror_mode": {
    "name": "ipython",
    "version": 3
   },
   "file_extension": ".py",
   "mimetype": "text/x-python",
   "name": "python",
   "nbconvert_exporter": "python",
   "pygments_lexer": "ipython3",
   "version": "3.9.7"
  },
  "orig_nbformat": 4
 },
 "nbformat": 4,
 "nbformat_minor": 2
}
